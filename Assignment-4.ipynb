{
 "cells": [
  {
   "cell_type": "markdown",
   "id": "8964b28b-48b4-467b-a12b-f1fa9fb3a55a",
   "metadata": {},
   "source": [
    "## Answer No.1"
   ]
  },
  {
   "cell_type": "code",
   "execution_count": 8,
   "id": "47edf514-7738-4dca-87db-d75fad134ef6",
   "metadata": {},
   "outputs": [
    {
     "name": "stdout",
     "output_type": "stream",
     "text": [
      "[('Virat Kohli', 24936), ('Jack Kallis', 25534), ('Ricky Ponting', 27483), ('Sachin Tendulkar', 34357)]\n"
     ]
    }
   ],
   "source": [
    "l= [('Sachin Tendulkar', 34357), ('Ricky Ponting', 27483), ('Jack Kallis', 25534), ('Virat Kohli', 24936)]\n",
    "\n",
    "sorted_data = sorted(l, key = lambda x: x[1])\n",
    "\n",
    "print(sorted_data)"
   ]
  },
  {
   "cell_type": "markdown",
   "id": "e9cb5e62-c86e-4862-a222-910ec01679c7",
   "metadata": {},
   "source": [
    "## Answer No.2"
   ]
  },
  {
   "cell_type": "code",
   "execution_count": 14,
   "id": "0061230d-9f60-4c47-9fa6-92db6810f614",
   "metadata": {},
   "outputs": [
    {
     "name": "stdout",
     "output_type": "stream",
     "text": [
      "[1, 4, 9, 16, 25, 36, 49, 64, 81, 100]\n"
     ]
    }
   ],
   "source": [
    "Numbers = [1, 2, 3, 4, 5, 6, 7, 8, 9, 10]\n",
    "square_numbers = list(map(lambda x : x**2, Numbers))\n",
    "print (square_numbers)"
   ]
  },
  {
   "cell_type": "markdown",
   "id": "b8ecf9d9-a4b5-4ec0-9cb4-1086089c6af4",
   "metadata": {},
   "source": [
    "## Answeer No.3"
   ]
  },
  {
   "cell_type": "code",
   "execution_count": 37,
   "id": "7f884029-3150-4493-8b09-256ce2aafd2f",
   "metadata": {},
   "outputs": [
    {
     "name": "stdout",
     "output_type": "stream",
     "text": [
      "('1', '2', '3', '4', '5', '6', '7', '8', '9', '10')\n"
     ]
    }
   ],
   "source": [
    "String = [1, 2, 3, 4, 5, 6, 7, 8, 9, 10]\n",
    "tuple_string =tuple(map(lambda x : str (x),String))\n",
    "print(tuple_string)"
   ]
  },
  {
   "cell_type": "markdown",
   "id": "797fd3e9-4121-402b-9f41-d4e915d7c78a",
   "metadata": {},
   "source": [
    "## Answer No.4"
   ]
  },
  {
   "cell_type": "code",
   "execution_count": 41,
   "id": "90738343-52a3-4a1b-874d-0e834699f0b0",
   "metadata": {},
   "outputs": [
    {
     "name": "stdout",
     "output_type": "stream",
     "text": [
      "15511210043330985984000000\n"
     ]
    }
   ],
   "source": [
    "from functools import reduce\n",
    "number = list(range(1,26))\n",
    "product = reduce(lambda x,y : x*y,number)\n",
    "print(product)"
   ]
  },
  {
   "cell_type": "markdown",
   "id": "1713c849-1ac6-466e-9c3c-a47bb0fcc2e2",
   "metadata": {},
   "source": [
    "## Answer No.5"
   ]
  },
  {
   "cell_type": "code",
   "execution_count": 47,
   "id": "8ac438d5-61f0-46d5-8d17-1e503f62c166",
   "metadata": {},
   "outputs": [
    {
     "name": "stdout",
     "output_type": "stream",
     "text": [
      "[6, 60, 90, 120]\n"
     ]
    }
   ],
   "source": [
    "l = [2, 3, 6, 9, 27, 60, 90, 120, 55, 46]\n",
    "l1 = list(filter(lambda x : x %2 == 0 and x % 3 == 0, l))\n",
    "print (l1)"
   ]
  },
  {
   "cell_type": "markdown",
   "id": "3f1160c3-3d7a-41c5-bcbe-42ad341a6c3f",
   "metadata": {},
   "source": [
    "## Answer No.6"
   ]
  },
  {
   "cell_type": "code",
   "execution_count": 1,
   "id": "da6ba07a-2fab-457d-b71f-476a8baea68c",
   "metadata": {},
   "outputs": [
    {
     "name": "stdout",
     "output_type": "stream",
     "text": [
      "['php', 'aba', 'radar', 'level']\n"
     ]
    }
   ],
   "source": [
    "data = ['python', 'php', 'aba', 'radar', 'level']\n",
    "palindromes = list(filter(lambda x : x == x[::-1], data))\n",
    "print(palindromes)"
   ]
  }
 ],
 "metadata": {
  "kernelspec": {
   "display_name": "Python 3 (ipykernel)",
   "language": "python",
   "name": "python3"
  },
  "language_info": {
   "codemirror_mode": {
    "name": "ipython",
    "version": 3
   },
   "file_extension": ".py",
   "mimetype": "text/x-python",
   "name": "python",
   "nbconvert_exporter": "python",
   "pygments_lexer": "ipython3",
   "version": "3.10.8"
  }
 },
 "nbformat": 4,
 "nbformat_minor": 5
}
